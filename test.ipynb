{
 "cells": [
  {
   "cell_type": "code",
   "execution_count": null,
   "id": "d54ba9e9",
   "metadata": {},
   "outputs": [
    {
     "name": "stdout",
     "output_type": "stream",
     "text": [
      "{'input_ids': [197, 140, 83, 81, 74, 16, 13, 1, 0, 0, 0, 0, 0, 0, 0, 0, 0, 0, 0, 0, 0, 0, 0, 0, 0, 0, 0, 0, 0, 0, 0, 0, 0, 0, 0, 0, 0, 0, 0, 0, 0, 0, 0, 0, 0, 0, 0, 0, 0, 0, 0, 0, 0, 0, 0, 0, 0, 0, 0, 0, 0, 0, 0, 0], 'attention_mask': [1, 1, 1, 1, 1, 1, 1, 1, 0, 0, 0, 0, 0, 0, 0, 0, 0, 0, 0, 0, 0, 0, 0, 0, 0, 0, 0, 0, 0, 0, 0, 0, 0, 0, 0, 0, 0, 0, 0, 0, 0, 0, 0, 0, 0, 0, 0, 0, 0, 0, 0, 0, 0, 0, 0, 0, 0, 0, 0, 0, 0, 0, 0, 0]}\n"
     ]
    }
   ],
   "source": [
    "from transformers import AutoTokenizer\n",
    "\n",
    "# 必须设置 use_fast=False\n",
    "tokenizer = AutoTokenizer.from_pretrained(\"google/byt5-base\", use_fast=False)\n",
    "\n",
    "def byte_list_to_char_list(byte_list):\n",
    "    return [chr(b) for b in byte_list]\n",
    "\n",
    "byte_array = [137, 80, 78, 71, 13, 10]  # 图像或其他字节流\n",
    "char_tokens = byte_list_to_char_list(byte_array)\n",
    "\n",
    "# Tokenize raw byte array\n",
    "encoding = tokenizer(\n",
    "    char_tokens,\n",
    "    is_split_into_words=True,  \n",
    "    padding=\"max_length\",\n",
    "    truncation=True,\n",
    "    max_length=64,\n",
    ")\n",
    "\n",
    "print(encoding)\n"
   ]
  }
 ],
 "metadata": {
  "kernelspec": {
   "display_name": "base",
   "language": "python",
   "name": "python3"
  },
  "language_info": {
   "codemirror_mode": {
    "name": "ipython",
    "version": 3
   },
   "file_extension": ".py",
   "mimetype": "text/x-python",
   "name": "python",
   "nbconvert_exporter": "python",
   "pygments_lexer": "ipython3",
   "version": "3.12.3"
  }
 },
 "nbformat": 4,
 "nbformat_minor": 5
}
